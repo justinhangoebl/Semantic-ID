{
 "cells": [
  {
   "cell_type": "code",
   "execution_count": 103,
   "id": "b5ec6b6d",
   "metadata": {},
   "outputs": [],
   "source": [
    "import numpy as np\n",
    "import polars as pl\n",
    "import matplotlib.pyplot as plt\n",
    "import seaborn as sns\n",
    "import wandb \n",
    "import torch\n",
    "import torch.nn as nn\n",
    "import torch.nn.functional as F\n",
    "import torch.optim as optim\n",
    "import torch.utils.data as data\n",
    "from torchvision import datasets, transforms\n",
    "from torch.utils.data import DataLoader\n",
    "from tqdm import tqdm"
   ]
  },
  {
   "cell_type": "code",
   "execution_count": 104,
   "id": "13a94fdb",
   "metadata": {},
   "outputs": [
    {
     "data": {
      "text/html": [],
      "text/plain": [
       "<IPython.core.display.HTML object>"
      ]
     },
     "metadata": {},
     "output_type": "display_data"
    },
    {
     "data": {
      "text/html": [
       "<br>    <style><br>        .wandb-row {<br>            display: flex;<br>            flex-direction: row;<br>            flex-wrap: wrap;<br>            justify-content: flex-start;<br>            width: 100%;<br>        }<br>        .wandb-col {<br>            display: flex;<br>            flex-direction: column;<br>            flex-basis: 100%;<br>            flex: 1;<br>            padding: 10px;<br>        }<br>    </style><br><div class=\"wandb-row\"><div class=\"wandb-col\"><h3>Run history:</h3><br/><table class=\"wandb\"><tr><td>Step</td><td>▁▁▁▁▂▁▁▁▁▂▂▃▃▄▅▄▆▆▆▇▃▃▄▄▅▆▆▇▇▇▂▂▂▃▃▄▅▅▆█</td></tr><tr><td>loss</td><td>▁▁▁▁▁▁▁▁▁▁█▁▁▁▁▁▇▁▁▁▁▁▁▁▁▁▁▁▁▁▁▁▁▁▁▁▁▁▁▁</td></tr><tr><td>perplexity</td><td>▄▅▅▆▆▆▆▆▇█▇▇▇▆▆▇▇▄▇▇▇▇▇▇▇▁▁▁▁▁▁▁▁▁▁▆▅▅▅▅</td></tr><tr><td>recon_error</td><td>█▄▂▃▁▁▁▁▁▁▅▃▂▂▁▁▁▁▁▁▁▁▄▁▁▁▁▁▁▁▁▁▁▁▁▁▁▁▁▁</td></tr></table><br/></div><div class=\"wandb-col\"><h3>Run summary:</h3><br/><table class=\"wandb\"><tr><td>Step</td><td>4950</td></tr><tr><td>loss</td><td>0.0</td></tr><tr><td>perplexity</td><td>17.76886</td></tr><tr><td>recon_error</td><td>0.0</td></tr></table><br/></div></div>"
      ],
      "text/plain": [
       "<IPython.core.display.HTML object>"
      ]
     },
     "metadata": {},
     "output_type": "display_data"
    },
    {
     "data": {
      "text/html": [
       " View run <strong style=\"color:#cdcd00\">daily-puddle-11</strong> at: <a href='https://wandb.ai/hangoebl-j-johannes-kepler-universit-t-linz/image-rq-vae/runs/21bx30th' target=\"_blank\">https://wandb.ai/hangoebl-j-johannes-kepler-universit-t-linz/image-rq-vae/runs/21bx30th</a><br> View project at: <a href='https://wandb.ai/hangoebl-j-johannes-kepler-universit-t-linz/image-rq-vae' target=\"_blank\">https://wandb.ai/hangoebl-j-johannes-kepler-universit-t-linz/image-rq-vae</a><br>Synced 5 W&B file(s), 0 media file(s), 0 artifact file(s) and 0 other file(s)"
      ],
      "text/plain": [
       "<IPython.core.display.HTML object>"
      ]
     },
     "metadata": {},
     "output_type": "display_data"
    },
    {
     "data": {
      "text/html": [
       "Find logs at: <code>.\\wandb\\run-20250411_150805-21bx30th\\logs</code>"
      ],
      "text/plain": [
       "<IPython.core.display.HTML object>"
      ]
     },
     "metadata": {},
     "output_type": "display_data"
    },
    {
     "data": {
      "text/html": [
       "Tracking run with wandb version 0.19.9"
      ],
      "text/plain": [
       "<IPython.core.display.HTML object>"
      ]
     },
     "metadata": {},
     "output_type": "display_data"
    },
    {
     "data": {
      "text/html": [
       "Run data is saved locally in <code>c:\\Users\\Justin\\Documents\\Master-Thesis\\Semantic-ID\\wandb\\run-20250411_155653-c5q8nbhj</code>"
      ],
      "text/plain": [
       "<IPython.core.display.HTML object>"
      ]
     },
     "metadata": {},
     "output_type": "display_data"
    },
    {
     "data": {
      "text/html": [
       "Syncing run <strong><a href='https://wandb.ai/hangoebl-j-johannes-kepler-universit-t-linz/image-rq-vae/runs/c5q8nbhj' target=\"_blank\">flowing-durian-12</a></strong> to <a href='https://wandb.ai/hangoebl-j-johannes-kepler-universit-t-linz/image-rq-vae' target=\"_blank\">Weights & Biases</a> (<a href='https://wandb.me/developer-guide' target=\"_blank\">docs</a>)<br>"
      ],
      "text/plain": [
       "<IPython.core.display.HTML object>"
      ]
     },
     "metadata": {},
     "output_type": "display_data"
    },
    {
     "data": {
      "text/html": [
       " View project at <a href='https://wandb.ai/hangoebl-j-johannes-kepler-universit-t-linz/image-rq-vae' target=\"_blank\">https://wandb.ai/hangoebl-j-johannes-kepler-universit-t-linz/image-rq-vae</a>"
      ],
      "text/plain": [
       "<IPython.core.display.HTML object>"
      ]
     },
     "metadata": {},
     "output_type": "display_data"
    },
    {
     "data": {
      "text/html": [
       " View run at <a href='https://wandb.ai/hangoebl-j-johannes-kepler-universit-t-linz/image-rq-vae/runs/c5q8nbhj' target=\"_blank\">https://wandb.ai/hangoebl-j-johannes-kepler-universit-t-linz/image-rq-vae/runs/c5q8nbhj</a>"
      ],
      "text/plain": [
       "<IPython.core.display.HTML object>"
      ]
     },
     "metadata": {},
     "output_type": "display_data"
    }
   ],
   "source": [
    "run = wandb.init(\n",
    "    entity=\"hangoebl-j-johannes-kepler-universit-t-linz\",\n",
    "    project=\"image-rq-vae\",\n",
    "    config={\n",
    "        \"learning_rate\": 0.001,\n",
    "        \"architecture\": \"RQ-VAE\",\n",
    "        \"dataset\": \"MNIST\",\n",
    "        \"epochs\": 5000,\n",
    "    },\n",
    ")\n",
    "\n",
    "device = torch.device(\"cuda\" if torch.cuda.is_available() else \"cpu\")"
   ]
  },
  {
   "cell_type": "code",
   "execution_count": 105,
   "id": "62495028",
   "metadata": {},
   "outputs": [],
   "source": [
    "class Encoder(nn.Module):        \n",
    "    def __init__(self, in_dim, h_dim):\n",
    "        super(Encoder, self).__init__()\n",
    "        kernel = 4\n",
    "        stride = 2\n",
    "        self.conv_stack = nn.Sequential(\n",
    "            nn.Conv2d(in_dim, h_dim // 2, kernel_size=kernel,\n",
    "                      stride=stride, padding=1),\n",
    "            nn.ReLU(),\n",
    "            nn.Conv2d(h_dim // 2, h_dim, kernel_size=kernel,\n",
    "                      stride=stride, padding=1),\n",
    "            nn.ReLU(),\n",
    "            nn.Conv2d(h_dim, h_dim, kernel_size=kernel-1,\n",
    "                      stride=stride-1, padding=1),\n",
    "\n",
    "        )\n",
    "\n",
    "    def forward(self, x):\n",
    "        return self.conv_stack(x)\n",
    "    \n",
    "class Decoder(nn.Module):\n",
    "    def __init__(self, in_dim, h_dim):\n",
    "        super(Decoder, self).__init__()\n",
    "        kernel = 4\n",
    "        stride = 2\n",
    "\n",
    "        self.inverse_conv_stack = nn.Sequential(\n",
    "            nn.ConvTranspose2d(\n",
    "                in_dim, h_dim, kernel_size=kernel-1, stride=stride-1, padding=1),\n",
    "            nn.ConvTranspose2d(h_dim, h_dim // 2,\n",
    "                               kernel_size=kernel, stride=stride, padding=1),\n",
    "            nn.ReLU(),\n",
    "            nn.ConvTranspose2d(h_dim//2, 1, kernel_size=kernel,\n",
    "                               stride=stride, padding=1)\n",
    "        )\n",
    "\n",
    "    def forward(self, x):\n",
    "        return self.inverse_conv_stack(x)\n",
    "    \n",
    "class VectorQuantizer(nn.Module):\n",
    "    def __init__(self, n_e, e_dim, beta):\n",
    "        super(VectorQuantizer, self).__init__()\n",
    "        self.n_e = n_e\n",
    "        self.e_dim = e_dim\n",
    "        self.beta = beta\n",
    "\n",
    "        self.embedding = nn.Embedding(self.n_e, self.e_dim)\n",
    "        self.embedding.weight.data.uniform_(-1.0 / self.n_e, 1.0 / self.n_e)\n",
    "\n",
    "    def forward(self, z):\n",
    "        # reshape z -> (batch, height, width, channel) and flatten\n",
    "        z = z.permute(0, 2, 3, 1).contiguous()\n",
    "        z_flattened = z.view(-1, self.e_dim)\n",
    "        # distances from z to embeddings e_j (z - e)^2 = z^2 + e^2 - 2 e * z\n",
    "\n",
    "        d = torch.sum(z_flattened ** 2, dim=1, keepdim=True) + \\\n",
    "            torch.sum(self.embedding.weight**2, dim=1) - 2 * \\\n",
    "            torch.matmul(z_flattened, self.embedding.weight.t())\n",
    "\n",
    "        # find closest encodings\n",
    "        min_encoding_indices = torch.argmin(d, dim=1).unsqueeze(1)\n",
    "        min_encodings = torch.zeros(\n",
    "            min_encoding_indices.shape[0], self.n_e).to(device)\n",
    "        min_encodings.scatter_(1, min_encoding_indices, 1)\n",
    "\n",
    "        # get quantized latent vectors\n",
    "        z_q = torch.matmul(min_encodings, self.embedding.weight).view(z.shape)\n",
    "\n",
    "        # compute loss for embedding\n",
    "        loss = torch.mean((z_q.detach()-z)**2) + self.beta * \\\n",
    "            torch.mean((z_q - z.detach()) ** 2)\n",
    "\n",
    "        # preserve gradients\n",
    "        z_q = z + (z_q - z).detach()\n",
    "\n",
    "        # perplexity\n",
    "        e_mean = torch.mean(min_encodings, dim=0)\n",
    "        perplexity = torch.exp(-torch.sum(e_mean * torch.log(e_mean + 1e-10)))\n",
    "\n",
    "        # reshape back to match original input shape\n",
    "        z_q = z_q.permute(0, 3, 1, 2).contiguous()\n",
    "\n",
    "        return loss, z_q, perplexity, min_encodings, min_encoding_indices"
   ]
  },
  {
   "cell_type": "code",
   "execution_count": 106,
   "id": "7882b88f",
   "metadata": {},
   "outputs": [],
   "source": [
    "class VQVAE(nn.Module):\n",
    "    def __init__(self, h_dim,\n",
    "                 n_embeddings, embedding_dim, beta, save_img_embedding_map=False):\n",
    "        super(VQVAE, self).__init__()\n",
    "        # encode image into continuous latent space\n",
    "        self.encoder = Encoder(1, h_dim)\n",
    "        self.pre_quantization_conv = nn.Conv2d(\n",
    "            h_dim, embedding_dim, kernel_size=1, stride=1)\n",
    "        # pass continuous latent vector through discretization bottleneck\n",
    "        self.vector_quantization = VectorQuantizer(\n",
    "            n_embeddings, embedding_dim, beta)\n",
    "        # decode the discrete latent representation\n",
    "        self.decoder = Decoder(embedding_dim, h_dim)\n",
    "\n",
    "        if save_img_embedding_map:\n",
    "            self.img_to_embedding_map = {i: [] for i in range(n_embeddings)}\n",
    "        else:\n",
    "            self.img_to_embedding_map = None\n",
    "\n",
    "    def forward(self, x, verbose=False):\n",
    "\n",
    "        z_e = self.encoder(x)\n",
    "\n",
    "        z_e = self.pre_quantization_conv(z_e)\n",
    "        embedding_loss, z_q, perplexity, min_encodings, min_encodings_idx = self.vector_quantization(\n",
    "            z_e)\n",
    "        x_hat = self.decoder(z_q)\n",
    "\n",
    "        if verbose:\n",
    "            print('original data shape:', x.shape)\n",
    "            print('encoded data shape:', z_e.shape)\n",
    "            print('recon data shape:', x_hat.shape)\n",
    "            assert False\n",
    "\n",
    "        return embedding_loss, x_hat, perplexity, z_q, min_encodings, min_encodings_idx"
   ]
  },
  {
   "cell_type": "code",
   "execution_count": 107,
   "id": "dc539a36",
   "metadata": {},
   "outputs": [
    {
     "name": "stdout",
     "output_type": "stream",
     "text": [
      "6172.850482291342\n"
     ]
    },
    {
     "name": "stderr",
     "output_type": "stream",
     "text": [
      "Training VQVAE: 100%|██████████| 5000/5000 [05:13<00:00, 15.95epoch/s, Recon_Error=1.9656215499708196e-06, Loss=2.0383506580401445e-06, Perplexity=18.412446975708008]\n"
     ]
    }
   ],
   "source": [
    "h_dim = 128\n",
    "n_embeddings = 512\n",
    "embedding_dim = 64\n",
    "beta = 0.25\n",
    "save_img_embedding_map = False\n",
    "\n",
    "learning_rate = 0.001\n",
    "epochs = 5000\n",
    "log_interval = 50\n",
    "transform = transforms.Compose([\n",
    "    transforms.ToTensor(),\n",
    "])\n",
    "\n",
    "model = VQVAE(h_dim,\n",
    "                 n_embeddings, embedding_dim, beta, save_img_embedding_map).to(device)\n",
    "\n",
    "optimizer = optim.Adam(model.parameters(), lr=learning_rate, amsgrad=True)\n",
    "\n",
    "model.train()\n",
    "\n",
    "results = {\n",
    "    'n_updates': 0,\n",
    "    'recon_errors': [],\n",
    "    'loss_vals': [],\n",
    "    'perplexities': [],\n",
    "}\n",
    "\n",
    "train_dataset = datasets.MNIST(root='data', train=True, download=True, transform=transform)\n",
    "x_train_var = np.var(train_dataset.data.numpy())\n",
    "print(x_train_var)\n",
    "\n",
    "train_loader = DataLoader(train_dataset, batch_size=256, shuffle=True)\n",
    "\n",
    "def train():\n",
    "    pbar = tqdm(range(epochs),total=epochs, desc=\"Training VQVAE\", unit=\"epoch\")\n",
    "    for i in pbar:\n",
    "        (x, _) = next(iter(train_loader))\n",
    "        x = x.to(device)\n",
    "        optimizer.zero_grad()\n",
    "\n",
    "        embedding_loss, x_hat, perplexity, _, _, _ = model(x)\n",
    "        recon_loss = torch.mean((x_hat - x)**2) / x_train_var\n",
    "        loss = recon_loss + embedding_loss\n",
    "\n",
    "        loss.backward()\n",
    "        optimizer.step()\n",
    "\n",
    "        results[\"recon_errors\"].append(recon_loss.cpu().detach().numpy())\n",
    "        results[\"perplexities\"].append(perplexity.cpu().detach().numpy())\n",
    "        results[\"loss_vals\"].append(loss.cpu().detach().numpy())\n",
    "        results[\"n_updates\"] = i\n",
    "\n",
    "        if i % log_interval == 0:\n",
    "            recon_error = np.mean(results[\"recon_errors\"][-log_interval:])\n",
    "            loss = np.mean(results[\"loss_vals\"][-log_interval:])\n",
    "            perplexity = np.mean(results[\"perplexities\"][-log_interval:])\n",
    "            \n",
    "\n",
    "            wandb.log({\n",
    "                'Step': i,\n",
    "                'recon_error': recon_error,\n",
    "                'loss': loss,\n",
    "                'perplexity': perplexity,\n",
    "            })\n",
    "        pbar.set_postfix({\n",
    "            \"Recon_Error\":f\"{recon_error}\",\n",
    "            \"Loss\":f\"{loss}\",\n",
    "            \"Perplexity\":f\"{perplexity}\"}\n",
    "        )\n",
    "    pbar.close()\n",
    "\n",
    "train()"
   ]
  },
  {
   "cell_type": "code",
   "execution_count": 108,
   "id": "eb689e88",
   "metadata": {},
   "outputs": [
    {
     "name": "stdout",
     "output_type": "stream",
     "text": [
      "torch.Size([49, 1])"
     ]
    },
    {
     "name": "stdout",
     "output_type": "stream",
     "text": [
      "\n"
     ]
    },
    {
     "data": {
      "text/plain": [
       "(np.float64(-0.5), np.float64(27.5), np.float64(27.5), np.float64(-0.5))"
      ]
     },
     "execution_count": 108,
     "metadata": {},
     "output_type": "execute_result"
    },
    {
     "data": {
      "image/png": "[encoded data removed]",
      "text/plain": [
       "<Figure size 1000x500 with 2 Axes>"
      ]
     },
     "metadata": {},
     "output_type": "display_data"
    }
   ],
   "source": [
    "test_dataset = datasets.MNIST(root='data', train=False, download=True, transform=transform)\n",
    "test_loader = DataLoader(test_dataset, batch_size=32, shuffle=False)\n",
    "# Step 3: Select a random image from the test set\n",
    "random_idx = 1\n",
    "image, label = test_dataset[random_idx]\n",
    "image = image.unsqueeze(0).to(device)  # Add batch dimension and move to device\n",
    "\n",
    "# Step 4: Pass the image through your model (encoder + quantizer + decoder)\n",
    "with torch.no_grad():  # Disable gradient computation for inference\n",
    "    embedding_loss, x_hat, perplexity, z_q, min_encodings, min_encodings_idx = model(image)\n",
    "    print(min_encodings_idx.shape)\n",
    "\n",
    "from torchvision.transforms import ToPILImage\n",
    "# Step 5: Convert the original and reconstructed images to PIL format for display\n",
    "to_pil_image = ToPILImage()\n",
    "\n",
    "# Original image\n",
    "original_image = image.squeeze(0).cpu()  # Remove batch dimension and move to CPU\n",
    "original_image_pil = to_pil_image(original_image)\n",
    "\n",
    "# Decoded (reconstructed) image\n",
    "decoded_image = x_hat.squeeze(0).cpu()  # Remove batch dimension and move to CPU\n",
    "decoded_image_pil = to_pil_image(decoded_image)\n",
    "\n",
    "# Step 6: Display the original and decoded images side by side\n",
    "fig, axes = plt.subplots(1, 2, figsize=(10, 5))\n",
    "\n",
    "axes[0].imshow(original_image_pil, cmap='gray')\n",
    "axes[0].set_title(f\"Original Label: {label}\")\n",
    "axes[0].axis('off')\n",
    "\n",
    "axes[1].imshow(decoded_image_pil, cmap='gray')\n",
    "axes[1].set_title(\"Decoded Image\")\n",
    "axes[1].axis('off')"
   ]
  }
 ],
 "metadata": {
  "kernelspec": {
   "display_name": ".venv",
   "language": "python",
   "name": "python3"
  },
  "language_info": {
   "codemirror_mode": {
    "name": "ipython",
    "version": 3
   },
   "file_extension": ".py",
   "mimetype": "text/x-python",
   "name": "python",
   "nbconvert_exporter": "python",
   "pygments_lexer": "ipython3",
   "version": "3.12.4"
  }
 },
 "nbformat": 4,
 "nbformat_minor": 5
}
